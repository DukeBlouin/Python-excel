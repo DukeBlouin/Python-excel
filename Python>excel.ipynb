{
 "cells": [
  {
   "cell_type": "code",
   "execution_count": 1,
   "id": "d5281304-1d29-443d-9f81-5216b567cb9e",
   "metadata": {
    "tags": []
   },
   "outputs": [],
   "source": [
    "import pandas as pd"
   ]
  },
  {
   "cell_type": "code",
   "execution_count": 2,
   "id": "1acccf8d-2aa9-43ac-8d22-08f4777f45b7",
   "metadata": {
    "tags": []
   },
   "outputs": [
    {
     "name": "stdout",
     "output_type": "stream",
     "text": [
      "/Users/reidblouin/usr/Data Visualization/Python write to Excel\n"
     ]
    }
   ],
   "source": [
    "#confirm the directory path\n",
    "import os\n",
    "\n",
    "path = os.getcwd()\n",
    "print(path)"
   ]
  },
  {
   "cell_type": "code",
   "execution_count": 10,
   "id": "af364f32-2aee-4d7f-a647-4f199c2f0f76",
   "metadata": {
    "tags": []
   },
   "outputs": [],
   "source": [
    "#Bring the CSV's in to Combine as Dataframeworks\n",
    "df1 = pd.read_csv('NDX.csv',\n",
    "                  usecols=['Date', 'NDX'])\n",
    "df2 = pd.read_csv('S&P500.csv',\n",
    "                  usecols=['Date', 'S&P500'])"
   ]
  },
  {
   "cell_type": "code",
   "execution_count": 11,
   "id": "3b7fc5bf-33c8-4730-af26-14a990c72b99",
   "metadata": {
    "tags": []
   },
   "outputs": [],
   "source": [
    "merged_df = pd.merge(df1, df2, on='Date', how='left')"
   ]
  },
  {
   "cell_type": "code",
   "execution_count": 31,
   "id": "3c77e553-40c1-477a-9c71-6c4b5ecad9d2",
   "metadata": {
    "tags": []
   },
   "outputs": [
    {
     "data": {
      "text/html": [
       "<div>\n",
       "<style scoped>\n",
       "    .dataframe tbody tr th:only-of-type {\n",
       "        vertical-align: middle;\n",
       "    }\n",
       "\n",
       "    .dataframe tbody tr th {\n",
       "        vertical-align: top;\n",
       "    }\n",
       "\n",
       "    .dataframe thead th {\n",
       "        text-align: right;\n",
       "    }\n",
       "</style>\n",
       "<table border=\"1\" class=\"dataframe\">\n",
       "  <thead>\n",
       "    <tr style=\"text-align: right;\">\n",
       "      <th></th>\n",
       "      <th>Date</th>\n",
       "      <th>NDX</th>\n",
       "      <th>S&amp;P500</th>\n",
       "    </tr>\n",
       "  </thead>\n",
       "  <tbody>\n",
       "    <tr>\n",
       "      <th>0</th>\n",
       "      <td>7-Sep-23</td>\n",
       "      <td>14,000.00</td>\n",
       "      <td>4,434.55</td>\n",
       "    </tr>\n",
       "    <tr>\n",
       "      <th>1</th>\n",
       "      <td>6-Sep-23</td>\n",
       "      <td>13,950.00</td>\n",
       "      <td>4,490.35</td>\n",
       "    </tr>\n",
       "    <tr>\n",
       "      <th>2</th>\n",
       "      <td>5-Sep-23</td>\n",
       "      <td>13,900.00</td>\n",
       "      <td>4,510.06</td>\n",
       "    </tr>\n",
       "    <tr>\n",
       "      <th>3</th>\n",
       "      <td>1-Sep-23</td>\n",
       "      <td>13,850.00</td>\n",
       "      <td>4,530.60</td>\n",
       "    </tr>\n",
       "    <tr>\n",
       "      <th>4</th>\n",
       "      <td>31-Aug-23</td>\n",
       "      <td>13,800.00</td>\n",
       "      <td>4,517.01</td>\n",
       "    </tr>\n",
       "  </tbody>\n",
       "</table>\n",
       "</div>"
      ],
      "text/plain": [
       "        Date        NDX    S&P500\n",
       "0   7-Sep-23  14,000.00  4,434.55\n",
       "1   6-Sep-23  13,950.00  4,490.35\n",
       "2   5-Sep-23  13,900.00  4,510.06\n",
       "3   1-Sep-23  13,850.00  4,530.60\n",
       "4  31-Aug-23  13,800.00  4,517.01"
      ]
     },
     "execution_count": 31,
     "metadata": {},
     "output_type": "execute_result"
    }
   ],
   "source": [
    "#View the Data before exporting\n",
    "merged_df.head(5)"
   ]
  },
  {
   "cell_type": "code",
   "execution_count": 17,
   "id": "73967362-5d8a-4dfb-a2a4-0c7b814f7369",
   "metadata": {
    "tags": []
   },
   "outputs": [],
   "source": [
    "#CSV exported to Directory - save a backup\n",
    "merged_df.to_csv(\"Output\")"
   ]
  },
  {
   "cell_type": "code",
   "execution_count": 23,
   "id": "10a7b2ab-867e-460e-a11a-517a5b60adac",
   "metadata": {
    "tags": []
   },
   "outputs": [],
   "source": [
    "#CSV exported to defined path - Documents Folder. This is where we will write to the Excel Files.\n",
    "import os\n",
    "path = '/Users/reidblouin/Documents/Workbook Outputs/Stock Data/'\n",
    "merged_df.to_csv(path+'Output')"
   ]
  },
  {
   "cell_type": "code",
   "execution_count": 45,
   "id": "9738eb37-494d-4c3a-89ef-d6e91447a462",
   "metadata": {
    "tags": []
   },
   "outputs": [],
   "source": [
    "#Excel exported to defined path - Documents Folder. This is where we will write to the Excel Files.\n",
    "with pd.ExcelWriter(path+'Output.xlsx') as writer:\n",
    "    merged_df.to_excel(writer, sheet_name='Sheet_1')"
   ]
  },
  {
   "cell_type": "code",
   "execution_count": 35,
   "id": "de221d77-4382-4df4-8118-33f85b23db43",
   "metadata": {
    "tags": []
   },
   "outputs": [],
   "source": [
    "#Here we are going to alter the merged dataframe before update"
   ]
  },
  {
   "cell_type": "code",
   "execution_count": 39,
   "id": "9a9ea358-fa3c-4c10-87d9-7228ce318b8a",
   "metadata": {
    "tags": []
   },
   "outputs": [
    {
     "data": {
      "text/plain": [
       "Date      38\n",
       "NDX       38\n",
       "S&P500    38\n",
       "dtype: int64"
      ]
     },
     "execution_count": 39,
     "metadata": {},
     "output_type": "execute_result"
    }
   ],
   "source": [
    "merged_df.count(axis=0, level=None, numeric_only=False) #here we count the number of data points. This is just so we know to cut \"x\" amount"
   ]
  },
  {
   "cell_type": "code",
   "execution_count": 52,
   "id": "42b2c3a1-474c-4fcc-978c-2687648d7167",
   "metadata": {
    "collapsed": true,
    "jupyter": {
     "outputs_hidden": true
    },
    "tags": []
   },
   "outputs": [
    {
     "data": {
      "text/html": [
       "<div>\n",
       "<style scoped>\n",
       "    .dataframe tbody tr th:only-of-type {\n",
       "        vertical-align: middle;\n",
       "    }\n",
       "\n",
       "    .dataframe tbody tr th {\n",
       "        vertical-align: top;\n",
       "    }\n",
       "\n",
       "    .dataframe thead th {\n",
       "        text-align: right;\n",
       "    }\n",
       "</style>\n",
       "<table border=\"1\" class=\"dataframe\">\n",
       "  <thead>\n",
       "    <tr style=\"text-align: right;\">\n",
       "      <th></th>\n",
       "      <th>Date</th>\n",
       "      <th>NDX</th>\n",
       "      <th>S&amp;P500</th>\n",
       "    </tr>\n",
       "  </thead>\n",
       "  <tbody>\n",
       "    <tr>\n",
       "      <th>1</th>\n",
       "      <td>6-Sep-23</td>\n",
       "      <td>13,950.00</td>\n",
       "      <td>4,490.35</td>\n",
       "    </tr>\n",
       "    <tr>\n",
       "      <th>2</th>\n",
       "      <td>5-Sep-23</td>\n",
       "      <td>13,900.00</td>\n",
       "      <td>4,510.06</td>\n",
       "    </tr>\n",
       "    <tr>\n",
       "      <th>3</th>\n",
       "      <td>1-Sep-23</td>\n",
       "      <td>13,850.00</td>\n",
       "      <td>4,530.60</td>\n",
       "    </tr>\n",
       "    <tr>\n",
       "      <th>4</th>\n",
       "      <td>31-Aug-23</td>\n",
       "      <td>13,800.00</td>\n",
       "      <td>4,517.01</td>\n",
       "    </tr>\n",
       "    <tr>\n",
       "      <th>5</th>\n",
       "      <td>30-Aug-23</td>\n",
       "      <td>13,750.00</td>\n",
       "      <td>4,477.01</td>\n",
       "    </tr>\n",
       "    <tr>\n",
       "      <th>6</th>\n",
       "      <td>29-Aug-23</td>\n",
       "      <td>13,700.00</td>\n",
       "      <td>4,437.01</td>\n",
       "    </tr>\n",
       "    <tr>\n",
       "      <th>7</th>\n",
       "      <td>28-Aug-23</td>\n",
       "      <td>13,650.00</td>\n",
       "      <td>4,397.01</td>\n",
       "    </tr>\n",
       "    <tr>\n",
       "      <th>8</th>\n",
       "      <td>27-Aug-23</td>\n",
       "      <td>13,600.00</td>\n",
       "      <td>4,357.01</td>\n",
       "    </tr>\n",
       "    <tr>\n",
       "      <th>9</th>\n",
       "      <td>26-Aug-23</td>\n",
       "      <td>13,550.00</td>\n",
       "      <td>4,317.01</td>\n",
       "    </tr>\n",
       "    <tr>\n",
       "      <th>10</th>\n",
       "      <td>25-Aug-23</td>\n",
       "      <td>13,500.00</td>\n",
       "      <td>4,277.01</td>\n",
       "    </tr>\n",
       "    <tr>\n",
       "      <th>11</th>\n",
       "      <td>24-Aug-23</td>\n",
       "      <td>13,450.00</td>\n",
       "      <td>4,237.01</td>\n",
       "    </tr>\n",
       "    <tr>\n",
       "      <th>12</th>\n",
       "      <td>23-Aug-23</td>\n",
       "      <td>13,400.00</td>\n",
       "      <td>4,197.01</td>\n",
       "    </tr>\n",
       "    <tr>\n",
       "      <th>13</th>\n",
       "      <td>22-Aug-23</td>\n",
       "      <td>13,350.00</td>\n",
       "      <td>4,157.01</td>\n",
       "    </tr>\n",
       "    <tr>\n",
       "      <th>14</th>\n",
       "      <td>21-Aug-23</td>\n",
       "      <td>13,300.00</td>\n",
       "      <td>4,117.01</td>\n",
       "    </tr>\n",
       "    <tr>\n",
       "      <th>15</th>\n",
       "      <td>20-Aug-23</td>\n",
       "      <td>13,250.00</td>\n",
       "      <td>4,077.01</td>\n",
       "    </tr>\n",
       "    <tr>\n",
       "      <th>16</th>\n",
       "      <td>19-Aug-23</td>\n",
       "      <td>13,200.00</td>\n",
       "      <td>4,037.01</td>\n",
       "    </tr>\n",
       "    <tr>\n",
       "      <th>17</th>\n",
       "      <td>18-Aug-23</td>\n",
       "      <td>13,150.00</td>\n",
       "      <td>3,997.01</td>\n",
       "    </tr>\n",
       "    <tr>\n",
       "      <th>18</th>\n",
       "      <td>17-Aug-23</td>\n",
       "      <td>13,100.00</td>\n",
       "      <td>3,957.01</td>\n",
       "    </tr>\n",
       "    <tr>\n",
       "      <th>19</th>\n",
       "      <td>16-Aug-23</td>\n",
       "      <td>13,050.00</td>\n",
       "      <td>3,917.01</td>\n",
       "    </tr>\n",
       "    <tr>\n",
       "      <th>20</th>\n",
       "      <td>15-Aug-23</td>\n",
       "      <td>13,000.00</td>\n",
       "      <td>3,877.01</td>\n",
       "    </tr>\n",
       "    <tr>\n",
       "      <th>21</th>\n",
       "      <td>14-Aug-23</td>\n",
       "      <td>12,950.00</td>\n",
       "      <td>3,837.01</td>\n",
       "    </tr>\n",
       "    <tr>\n",
       "      <th>22</th>\n",
       "      <td>13-Aug-23</td>\n",
       "      <td>12,900.00</td>\n",
       "      <td>3,797.01</td>\n",
       "    </tr>\n",
       "    <tr>\n",
       "      <th>23</th>\n",
       "      <td>12-Aug-23</td>\n",
       "      <td>12,850.00</td>\n",
       "      <td>3,757.01</td>\n",
       "    </tr>\n",
       "    <tr>\n",
       "      <th>24</th>\n",
       "      <td>11-Aug-23</td>\n",
       "      <td>12,800.00</td>\n",
       "      <td>3,717.01</td>\n",
       "    </tr>\n",
       "    <tr>\n",
       "      <th>25</th>\n",
       "      <td>10-Aug-23</td>\n",
       "      <td>12,750.00</td>\n",
       "      <td>3,677.01</td>\n",
       "    </tr>\n",
       "    <tr>\n",
       "      <th>26</th>\n",
       "      <td>9-Aug-23</td>\n",
       "      <td>12,700.00</td>\n",
       "      <td>3,637.01</td>\n",
       "    </tr>\n",
       "    <tr>\n",
       "      <th>27</th>\n",
       "      <td>8-Aug-23</td>\n",
       "      <td>12,650.00</td>\n",
       "      <td>3,597.01</td>\n",
       "    </tr>\n",
       "    <tr>\n",
       "      <th>28</th>\n",
       "      <td>7-Aug-23</td>\n",
       "      <td>12,600.00</td>\n",
       "      <td>3,557.01</td>\n",
       "    </tr>\n",
       "    <tr>\n",
       "      <th>29</th>\n",
       "      <td>6-Aug-23</td>\n",
       "      <td>12,550.00</td>\n",
       "      <td>3,517.01</td>\n",
       "    </tr>\n",
       "    <tr>\n",
       "      <th>30</th>\n",
       "      <td>5-Aug-23</td>\n",
       "      <td>12,500.00</td>\n",
       "      <td>3,477.01</td>\n",
       "    </tr>\n",
       "    <tr>\n",
       "      <th>31</th>\n",
       "      <td>4-Aug-23</td>\n",
       "      <td>12,450.00</td>\n",
       "      <td>3,437.01</td>\n",
       "    </tr>\n",
       "    <tr>\n",
       "      <th>32</th>\n",
       "      <td>3-Aug-23</td>\n",
       "      <td>12,400.00</td>\n",
       "      <td>3,397.01</td>\n",
       "    </tr>\n",
       "  </tbody>\n",
       "</table>\n",
       "</div>"
      ],
      "text/plain": [
       "         Date        NDX    S&P500\n",
       "1    6-Sep-23  13,950.00  4,490.35\n",
       "2    5-Sep-23  13,900.00  4,510.06\n",
       "3    1-Sep-23  13,850.00  4,530.60\n",
       "4   31-Aug-23  13,800.00  4,517.01\n",
       "5   30-Aug-23  13,750.00  4,477.01\n",
       "6   29-Aug-23  13,700.00  4,437.01\n",
       "7   28-Aug-23  13,650.00  4,397.01\n",
       "8   27-Aug-23  13,600.00  4,357.01\n",
       "9   26-Aug-23  13,550.00  4,317.01\n",
       "10  25-Aug-23  13,500.00  4,277.01\n",
       "11  24-Aug-23  13,450.00  4,237.01\n",
       "12  23-Aug-23  13,400.00  4,197.01\n",
       "13  22-Aug-23  13,350.00  4,157.01\n",
       "14  21-Aug-23  13,300.00  4,117.01\n",
       "15  20-Aug-23  13,250.00  4,077.01\n",
       "16  19-Aug-23  13,200.00  4,037.01\n",
       "17  18-Aug-23  13,150.00  3,997.01\n",
       "18  17-Aug-23  13,100.00  3,957.01\n",
       "19  16-Aug-23  13,050.00  3,917.01\n",
       "20  15-Aug-23  13,000.00  3,877.01\n",
       "21  14-Aug-23  12,950.00  3,837.01\n",
       "22  13-Aug-23  12,900.00  3,797.01\n",
       "23  12-Aug-23  12,850.00  3,757.01\n",
       "24  11-Aug-23  12,800.00  3,717.01\n",
       "25  10-Aug-23  12,750.00  3,677.01\n",
       "26   9-Aug-23  12,700.00  3,637.01\n",
       "27   8-Aug-23  12,650.00  3,597.01\n",
       "28   7-Aug-23  12,600.00  3,557.01\n",
       "29   6-Aug-23  12,550.00  3,517.01\n",
       "30   5-Aug-23  12,500.00  3,477.01\n",
       "31   4-Aug-23  12,450.00  3,437.01\n",
       "32   3-Aug-23  12,400.00  3,397.01"
      ]
     },
     "execution_count": 52,
     "metadata": {},
     "output_type": "execute_result"
    }
   ],
   "source": [
    "merged_df.iloc[1:33] #iloc locks the range. Note that 33 means that 1-32 will be pulled in"
   ]
  },
  {
   "cell_type": "code",
   "execution_count": 34,
   "id": "39f842ba-fbfa-4432-91ba-9250bceadbe8",
   "metadata": {
    "tags": []
   },
   "outputs": [],
   "source": [
    "#Update the Existing Excel Workbook - Import the Proper Package\n",
    "import openpyxl as op"
   ]
  },
  {
   "cell_type": "code",
   "execution_count": 60,
   "id": "61749cef-0c21-4921-bc34-5c227b15527a",
   "metadata": {
    "tags": []
   },
   "outputs": [],
   "source": [
    "wb = op.load_workbook('/Users/reidblouin/Documents/Workbook Outputs/Stock Data/Output.xlsx')\n",
    "ws = wb.active"
   ]
  },
  {
   "cell_type": "code",
   "execution_count": 61,
   "id": "4d32e5c3-ffdc-42f9-8862-4a371c9d0fdf",
   "metadata": {
    "tags": []
   },
   "outputs": [
    {
     "ename": "TypeError",
     "evalue": "expected str, bytes or os.PathLike object, not Workbook",
     "output_type": "error",
     "traceback": [
      "\u001b[0;31m---------------------------------------------------------------------------\u001b[0m",
      "\u001b[0;31mTypeError\u001b[0m                                 Traceback (most recent call last)",
      "Cell \u001b[0;32mIn[61], line 1\u001b[0m\n\u001b[0;32m----> 1\u001b[0m \u001b[38;5;28mopen\u001b[39m(wb)\n",
      "File \u001b[0;32m~/anaconda3/lib/python3.11/site-packages/IPython/core/interactiveshell.py:284\u001b[0m, in \u001b[0;36m_modified_open\u001b[0;34m(file, *args, **kwargs)\u001b[0m\n\u001b[1;32m    277\u001b[0m \u001b[38;5;28;01mif\u001b[39;00m file \u001b[38;5;129;01min\u001b[39;00m {\u001b[38;5;241m0\u001b[39m, \u001b[38;5;241m1\u001b[39m, \u001b[38;5;241m2\u001b[39m}:\n\u001b[1;32m    278\u001b[0m     \u001b[38;5;28;01mraise\u001b[39;00m \u001b[38;5;167;01mValueError\u001b[39;00m(\n\u001b[1;32m    279\u001b[0m         \u001b[38;5;124mf\u001b[39m\u001b[38;5;124m\"\u001b[39m\u001b[38;5;124mIPython won\u001b[39m\u001b[38;5;124m'\u001b[39m\u001b[38;5;124mt let you open fd=\u001b[39m\u001b[38;5;132;01m{\u001b[39;00mfile\u001b[38;5;132;01m}\u001b[39;00m\u001b[38;5;124m by default \u001b[39m\u001b[38;5;124m\"\u001b[39m\n\u001b[1;32m    280\u001b[0m         \u001b[38;5;124m\"\u001b[39m\u001b[38;5;124mas it is likely to crash IPython. If you know what you are doing, \u001b[39m\u001b[38;5;124m\"\u001b[39m\n\u001b[1;32m    281\u001b[0m         \u001b[38;5;124m\"\u001b[39m\u001b[38;5;124myou can use builtins\u001b[39m\u001b[38;5;124m'\u001b[39m\u001b[38;5;124m open.\u001b[39m\u001b[38;5;124m\"\u001b[39m\n\u001b[1;32m    282\u001b[0m     )\n\u001b[0;32m--> 284\u001b[0m \u001b[38;5;28;01mreturn\u001b[39;00m io_open(file, \u001b[38;5;241m*\u001b[39margs, \u001b[38;5;241m*\u001b[39m\u001b[38;5;241m*\u001b[39mkwargs)\n",
      "\u001b[0;31mTypeError\u001b[0m: expected str, bytes or os.PathLike object, not Workbook"
     ]
    }
   ],
   "source": []
  },
  {
   "cell_type": "code",
   "execution_count": null,
   "id": "c1379a77-2b73-43ce-b0b2-5da33a5a8e6a",
   "metadata": {
    "tags": []
   },
   "outputs": [],
   "source": [
    "with pd.ExcelWriter(path+'Output.xlsx') as writer:\n",
    "    df.to_excel(writer, sheet_name='Sheet_1')"
   ]
  },
  {
   "cell_type": "code",
   "execution_count": null,
   "id": "9d2c6729-642e-415d-96f6-9ae928f1cd8e",
   "metadata": {},
   "outputs": [],
   "source": []
  }
 ],
 "metadata": {
  "kernelspec": {
   "display_name": "Python 3 (ipykernel)",
   "language": "python",
   "name": "python3"
  },
  "language_info": {
   "codemirror_mode": {
    "name": "ipython",
    "version": 3
   },
   "file_extension": ".py",
   "mimetype": "text/x-python",
   "name": "python",
   "nbconvert_exporter": "python",
   "pygments_lexer": "ipython3",
   "version": "3.11.4"
  }
 },
 "nbformat": 4,
 "nbformat_minor": 5
}
